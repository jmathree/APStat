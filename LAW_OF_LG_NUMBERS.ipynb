{
  "metadata": {
    "language_info": {
      "codemirror_mode": {
        "name": "python",
        "version": 3
      },
      "file_extension": ".py",
      "mimetype": "text/x-python",
      "name": "python",
      "nbconvert_exporter": "python",
      "pygments_lexer": "ipython3",
      "version": "3.8"
    },
    "kernelspec": {
      "name": "python",
      "display_name": "Python (Pyodide)",
      "language": "python"
    }
  },
  "nbformat_minor": 4,
  "nbformat": 4,
  "cells": [
    {
      "cell_type": "markdown",
      "source": "<h1>Topic 4.2 Law of Large Numbers Simulation</h1>\n\nThe probability of an event occuring does not guarantee us a perfect distribution of outcomes in a random process. Instead, probability gives us an expected average proportion of specific outcomes over a large number of trials. Probability does not tell us what will occur on any one trial, but what we can expect over many trials. As such, when we repeat a random process many times, we expect the proportion of each outcome to approximately equal the probability of that outcome. \n\nThis idea is called the Law of Large Numbers -- The more times a random process is repeated, the relative frequency of each outcome should approach the true probability of that outcome. This allows us to approximate probabilities for outcomes in a random process using simulation.\n\nThis Notebook runs a simulation to demonstrate the Law of Large Numbers.\n\nWith a fair die (six-sided number cube), the probability any number, 1 - 6, landing face up on a roll is 1/6. However, rolling the die six times does not guarantee each number will occur exactly once. But, if we roll the die six times, we get a simulated probability of each number landing face up. Roll a die six times and record the number that lands face up each time. Did each number appear exactly one time? If not, why not?",
      "metadata": {}
    },
    {
      "cell_type": "code",
      "source": "#import necessary libraries\nimport pandas as pd\nimport matplotlib as mpl\nimport matplotlib.pyplot as plt\nimport numpy as np\nimport random as rnd",
      "metadata": {
        "trusted": true
      },
      "execution_count": 1,
      "outputs": []
    },
    {
      "cell_type": "code",
      "source": "# define die roll function\ndef roll():\n    die = rnd.randint(1,6)\n    return die",
      "metadata": {
        "trusted": true
      },
      "execution_count": 5,
      "outputs": []
    },
    {
      "cell_type": "code",
      "source": "t = 6\nrolls = [0]*t\nfor k in range(0,t):\n    rolls[k] = roll()\nDIE_ROLLS = pd.DataFrame(rolls)\nRESULTS = DIE_ROLLS.value_counts().rename_axis('ROLL').to_frame('FREQUENCY')\nRESULTS = RESULTS.reset_index()\nRESULTS['PROBABILITY'] = RESULTS['FREQUENCY']/t\nRESULTS = RESULTS.sort_values('ROLL')\nRESULTS",
      "metadata": {
        "trusted": true
      },
      "execution_count": 27,
      "outputs": [
        {
          "execution_count": 27,
          "output_type": "execute_result",
          "data": {
            "text/plain": "   ROLL  FREQUENCY  PROBABILITY\n1     1          1     0.166667\n2     2          1     0.166667\n3     3          1     0.166667\n0     5          2     0.333333\n4     6          1     0.166667",
            "text/html": "<div>\n<style scoped>\n    .dataframe tbody tr th:only-of-type {\n        vertical-align: middle;\n    }\n\n    .dataframe tbody tr th {\n        vertical-align: top;\n    }\n\n    .dataframe thead th {\n        text-align: right;\n    }\n</style>\n<table border=\"1\" class=\"dataframe\">\n  <thead>\n    <tr style=\"text-align: right;\">\n      <th></th>\n      <th>ROLL</th>\n      <th>FREQUENCY</th>\n      <th>PROBABILITY</th>\n    </tr>\n  </thead>\n  <tbody>\n    <tr>\n      <th>1</th>\n      <td>1</td>\n      <td>1</td>\n      <td>0.166667</td>\n    </tr>\n    <tr>\n      <th>2</th>\n      <td>2</td>\n      <td>1</td>\n      <td>0.166667</td>\n    </tr>\n    <tr>\n      <th>3</th>\n      <td>3</td>\n      <td>1</td>\n      <td>0.166667</td>\n    </tr>\n    <tr>\n      <th>0</th>\n      <td>5</td>\n      <td>2</td>\n      <td>0.333333</td>\n    </tr>\n    <tr>\n      <th>4</th>\n      <td>6</td>\n      <td>1</td>\n      <td>0.166667</td>\n    </tr>\n  </tbody>\n</table>\n</div>"
          },
          "metadata": {}
        }
      ]
    },
    {
      "cell_type": "code",
      "source": "t = 60\nrolls = [0]*t\nfor k in range(0,t):\n    rolls[k] = roll()\nDIE_ROLLS = pd.DataFrame(rolls)\nRESULTS = DIE_ROLLS.value_counts().rename_axis('ROLL').to_frame('FREQUENCY')\nRESULTS = RESULTS.reset_index()\nRESULTS['PROBABILITY'] = RESULTS['FREQUENCY']/t\nRESULTS = RESULTS.sort_values('ROLL')\nRESULTS",
      "metadata": {
        "trusted": true
      },
      "execution_count": 28,
      "outputs": [
        {
          "execution_count": 28,
          "output_type": "execute_result",
          "data": {
            "text/plain": "   ROLL  FREQUENCY  PROBABILITY\n2     1          9     0.150000\n5     2          7     0.116667\n3     3          9     0.150000\n4     4          8     0.133333\n1     5         12     0.200000\n0     6         15     0.250000",
            "text/html": "<div>\n<style scoped>\n    .dataframe tbody tr th:only-of-type {\n        vertical-align: middle;\n    }\n\n    .dataframe tbody tr th {\n        vertical-align: top;\n    }\n\n    .dataframe thead th {\n        text-align: right;\n    }\n</style>\n<table border=\"1\" class=\"dataframe\">\n  <thead>\n    <tr style=\"text-align: right;\">\n      <th></th>\n      <th>ROLL</th>\n      <th>FREQUENCY</th>\n      <th>PROBABILITY</th>\n    </tr>\n  </thead>\n  <tbody>\n    <tr>\n      <th>2</th>\n      <td>1</td>\n      <td>9</td>\n      <td>0.150000</td>\n    </tr>\n    <tr>\n      <th>5</th>\n      <td>2</td>\n      <td>7</td>\n      <td>0.116667</td>\n    </tr>\n    <tr>\n      <th>3</th>\n      <td>3</td>\n      <td>9</td>\n      <td>0.150000</td>\n    </tr>\n    <tr>\n      <th>4</th>\n      <td>4</td>\n      <td>8</td>\n      <td>0.133333</td>\n    </tr>\n    <tr>\n      <th>1</th>\n      <td>5</td>\n      <td>12</td>\n      <td>0.200000</td>\n    </tr>\n    <tr>\n      <th>0</th>\n      <td>6</td>\n      <td>15</td>\n      <td>0.250000</td>\n    </tr>\n  </tbody>\n</table>\n</div>"
          },
          "metadata": {}
        }
      ]
    },
    {
      "cell_type": "code",
      "source": "t = 600\nrolls = [0]*t\nfor k in range(0,t):\n    rolls[k] = roll()\nDIE_ROLLS = pd.DataFrame(rolls)\nRESULTS = DIE_ROLLS.value_counts().rename_axis('ROLL').to_frame('FREQUENCY')\nRESULTS = RESULTS.reset_index()\nRESULTS['PROBABILITY'] = RESULTS['FREQUENCY']/t\nRESULTS = RESULTS.sort_values('ROLL')\nRESULTS",
      "metadata": {
        "trusted": true
      },
      "execution_count": 29,
      "outputs": [
        {
          "execution_count": 29,
          "output_type": "execute_result",
          "data": {
            "text/plain": "   ROLL  FREQUENCY  PROBABILITY\n3     1         98     0.163333\n1     2        106     0.176667\n4     3         93     0.155000\n2     4         99     0.165000\n5     5         83     0.138333\n0     6        121     0.201667",
            "text/html": "<div>\n<style scoped>\n    .dataframe tbody tr th:only-of-type {\n        vertical-align: middle;\n    }\n\n    .dataframe tbody tr th {\n        vertical-align: top;\n    }\n\n    .dataframe thead th {\n        text-align: right;\n    }\n</style>\n<table border=\"1\" class=\"dataframe\">\n  <thead>\n    <tr style=\"text-align: right;\">\n      <th></th>\n      <th>ROLL</th>\n      <th>FREQUENCY</th>\n      <th>PROBABILITY</th>\n    </tr>\n  </thead>\n  <tbody>\n    <tr>\n      <th>3</th>\n      <td>1</td>\n      <td>98</td>\n      <td>0.163333</td>\n    </tr>\n    <tr>\n      <th>1</th>\n      <td>2</td>\n      <td>106</td>\n      <td>0.176667</td>\n    </tr>\n    <tr>\n      <th>4</th>\n      <td>3</td>\n      <td>93</td>\n      <td>0.155000</td>\n    </tr>\n    <tr>\n      <th>2</th>\n      <td>4</td>\n      <td>99</td>\n      <td>0.165000</td>\n    </tr>\n    <tr>\n      <th>5</th>\n      <td>5</td>\n      <td>83</td>\n      <td>0.138333</td>\n    </tr>\n    <tr>\n      <th>0</th>\n      <td>6</td>\n      <td>121</td>\n      <td>0.201667</td>\n    </tr>\n  </tbody>\n</table>\n</div>"
          },
          "metadata": {}
        }
      ]
    },
    {
      "cell_type": "code",
      "source": "t = 6000\nrolls = [0]*t\nfor k in range(0,t):\n    rolls[k] = roll()\nDIE_ROLLS = pd.DataFrame(rolls)\nRESULTS = DIE_ROLLS.value_counts().rename_axis('ROLL').to_frame('FREQUENCY')\nRESULTS = RESULTS.reset_index()\nRESULTS['PROBABILITY'] = RESULTS['FREQUENCY']/t\nRESULTS = RESULTS.sort_values('ROLL')\nRESULTS",
      "metadata": {
        "trusted": true
      },
      "execution_count": 30,
      "outputs": [
        {
          "execution_count": 30,
          "output_type": "execute_result",
          "data": {
            "text/plain": "   ROLL  FREQUENCY  PROBABILITY\n2     1        993     0.165500\n5     2        960     0.160000\n4     3        988     0.164667\n1     4        995     0.165833\n3     5        993     0.165500\n0     6       1071     0.178500",
            "text/html": "<div>\n<style scoped>\n    .dataframe tbody tr th:only-of-type {\n        vertical-align: middle;\n    }\n\n    .dataframe tbody tr th {\n        vertical-align: top;\n    }\n\n    .dataframe thead th {\n        text-align: right;\n    }\n</style>\n<table border=\"1\" class=\"dataframe\">\n  <thead>\n    <tr style=\"text-align: right;\">\n      <th></th>\n      <th>ROLL</th>\n      <th>FREQUENCY</th>\n      <th>PROBABILITY</th>\n    </tr>\n  </thead>\n  <tbody>\n    <tr>\n      <th>2</th>\n      <td>1</td>\n      <td>993</td>\n      <td>0.165500</td>\n    </tr>\n    <tr>\n      <th>5</th>\n      <td>2</td>\n      <td>960</td>\n      <td>0.160000</td>\n    </tr>\n    <tr>\n      <th>4</th>\n      <td>3</td>\n      <td>988</td>\n      <td>0.164667</td>\n    </tr>\n    <tr>\n      <th>1</th>\n      <td>4</td>\n      <td>995</td>\n      <td>0.165833</td>\n    </tr>\n    <tr>\n      <th>3</th>\n      <td>5</td>\n      <td>993</td>\n      <td>0.165500</td>\n    </tr>\n    <tr>\n      <th>0</th>\n      <td>6</td>\n      <td>1071</td>\n      <td>0.178500</td>\n    </tr>\n  </tbody>\n</table>\n</div>"
          },
          "metadata": {}
        }
      ]
    },
    {
      "cell_type": "code",
      "source": "t = 60000\nrolls = [0]*t\nfor k in range(0,t):\n    rolls[k] = roll()\nDIE_ROLLS = pd.DataFrame(rolls)\nRESULTS = DIE_ROLLS.value_counts().rename_axis('ROLL').to_frame('FREQUENCY')\nRESULTS = RESULTS.reset_index()\nRESULTS['PROBABILITY'] = RESULTS['FREQUENCY']/t\nRESULTS = RESULTS.sort_values('ROLL')\nRESULTS",
      "metadata": {
        "trusted": true
      },
      "execution_count": 31,
      "outputs": [
        {
          "execution_count": 31,
          "output_type": "execute_result",
          "data": {
            "text/plain": "   ROLL  FREQUENCY  PROBABILITY\n1     1      10038     0.167300\n4     2       9996     0.166600\n5     3       9849     0.164150\n3     4      10001     0.166683\n0     5      10098     0.168300\n2     6      10018     0.166967",
            "text/html": "<div>\n<style scoped>\n    .dataframe tbody tr th:only-of-type {\n        vertical-align: middle;\n    }\n\n    .dataframe tbody tr th {\n        vertical-align: top;\n    }\n\n    .dataframe thead th {\n        text-align: right;\n    }\n</style>\n<table border=\"1\" class=\"dataframe\">\n  <thead>\n    <tr style=\"text-align: right;\">\n      <th></th>\n      <th>ROLL</th>\n      <th>FREQUENCY</th>\n      <th>PROBABILITY</th>\n    </tr>\n  </thead>\n  <tbody>\n    <tr>\n      <th>1</th>\n      <td>1</td>\n      <td>10038</td>\n      <td>0.167300</td>\n    </tr>\n    <tr>\n      <th>4</th>\n      <td>2</td>\n      <td>9996</td>\n      <td>0.166600</td>\n    </tr>\n    <tr>\n      <th>5</th>\n      <td>3</td>\n      <td>9849</td>\n      <td>0.164150</td>\n    </tr>\n    <tr>\n      <th>3</th>\n      <td>4</td>\n      <td>10001</td>\n      <td>0.166683</td>\n    </tr>\n    <tr>\n      <th>0</th>\n      <td>5</td>\n      <td>10098</td>\n      <td>0.168300</td>\n    </tr>\n    <tr>\n      <th>2</th>\n      <td>6</td>\n      <td>10018</td>\n      <td>0.166967</td>\n    </tr>\n  </tbody>\n</table>\n</div>"
          },
          "metadata": {}
        }
      ]
    },
    {
      "cell_type": "code",
      "source": "t = 600000\nrolls = [0]*t\nfor k in range(0,t):\n    rolls[k] = roll()\nDIE_ROLLS = pd.DataFrame(rolls)\nRESULTS = DIE_ROLLS.value_counts().rename_axis('ROLL').to_frame('FREQUENCY')\nRESULTS = RESULTS.reset_index()\nRESULTS['PROBABILITY'] = RESULTS['FREQUENCY']/t\nRESULTS = RESULTS.sort_values('ROLL')\nRESULTS",
      "metadata": {
        "trusted": true
      },
      "execution_count": 32,
      "outputs": [
        {
          "execution_count": 32,
          "output_type": "execute_result",
          "data": {
            "text/plain": "   ROLL  FREQUENCY  PROBABILITY\n2     1      99938     0.166563\n5     2      99659     0.166098\n1     3     100136     0.166893\n3     4      99840     0.166400\n4     5      99830     0.166383\n0     6     100597     0.167662",
            "text/html": "<div>\n<style scoped>\n    .dataframe tbody tr th:only-of-type {\n        vertical-align: middle;\n    }\n\n    .dataframe tbody tr th {\n        vertical-align: top;\n    }\n\n    .dataframe thead th {\n        text-align: right;\n    }\n</style>\n<table border=\"1\" class=\"dataframe\">\n  <thead>\n    <tr style=\"text-align: right;\">\n      <th></th>\n      <th>ROLL</th>\n      <th>FREQUENCY</th>\n      <th>PROBABILITY</th>\n    </tr>\n  </thead>\n  <tbody>\n    <tr>\n      <th>2</th>\n      <td>1</td>\n      <td>99938</td>\n      <td>0.166563</td>\n    </tr>\n    <tr>\n      <th>5</th>\n      <td>2</td>\n      <td>99659</td>\n      <td>0.166098</td>\n    </tr>\n    <tr>\n      <th>1</th>\n      <td>3</td>\n      <td>100136</td>\n      <td>0.166893</td>\n    </tr>\n    <tr>\n      <th>3</th>\n      <td>4</td>\n      <td>99840</td>\n      <td>0.166400</td>\n    </tr>\n    <tr>\n      <th>4</th>\n      <td>5</td>\n      <td>99830</td>\n      <td>0.166383</td>\n    </tr>\n    <tr>\n      <th>0</th>\n      <td>6</td>\n      <td>100597</td>\n      <td>0.167662</td>\n    </tr>\n  </tbody>\n</table>\n</div>"
          },
          "metadata": {}
        }
      ]
    },
    {
      "cell_type": "code",
      "source": "t = 6000000\nrolls = [0]*t\nfor k in range(0,t):\n    rolls[k] = roll()\nDIE_ROLLS = pd.DataFrame(rolls)\nRESULTS = DIE_ROLLS.value_counts().rename_axis('ROLL').to_frame('FREQUENCY')\nRESULTS = RESULTS.reset_index()\nRESULTS['PROBABILITY'] = RESULTS['FREQUENCY']/t\nRESULTS = RESULTS.sort_values('ROLL')\nRESULTS",
      "metadata": {
        "trusted": true
      },
      "execution_count": 33,
      "outputs": [
        {
          "execution_count": 33,
          "output_type": "execute_result",
          "data": {
            "text/plain": "   ROLL  FREQUENCY  PROBABILITY\n3     1     999832     0.166639\n1     2    1000881     0.166814\n2     3    1000651     0.166775\n5     4     998274     0.166379\n4     5     999277     0.166546\n0     6    1001085     0.166848",
            "text/html": "<div>\n<style scoped>\n    .dataframe tbody tr th:only-of-type {\n        vertical-align: middle;\n    }\n\n    .dataframe tbody tr th {\n        vertical-align: top;\n    }\n\n    .dataframe thead th {\n        text-align: right;\n    }\n</style>\n<table border=\"1\" class=\"dataframe\">\n  <thead>\n    <tr style=\"text-align: right;\">\n      <th></th>\n      <th>ROLL</th>\n      <th>FREQUENCY</th>\n      <th>PROBABILITY</th>\n    </tr>\n  </thead>\n  <tbody>\n    <tr>\n      <th>3</th>\n      <td>1</td>\n      <td>999832</td>\n      <td>0.166639</td>\n    </tr>\n    <tr>\n      <th>1</th>\n      <td>2</td>\n      <td>1000881</td>\n      <td>0.166814</td>\n    </tr>\n    <tr>\n      <th>2</th>\n      <td>3</td>\n      <td>1000651</td>\n      <td>0.166775</td>\n    </tr>\n    <tr>\n      <th>5</th>\n      <td>4</td>\n      <td>998274</td>\n      <td>0.166379</td>\n    </tr>\n    <tr>\n      <th>4</th>\n      <td>5</td>\n      <td>999277</td>\n      <td>0.166546</td>\n    </tr>\n    <tr>\n      <th>0</th>\n      <td>6</td>\n      <td>1001085</td>\n      <td>0.166848</td>\n    </tr>\n  </tbody>\n</table>\n</div>"
          },
          "metadata": {}
        }
      ]
    },
    {
      "cell_type": "markdown",
      "source": "The theoretical probability of rolling a 1, 2, 3, 4, 5, or 6 on any one roll of a fair die is 1/6. In the dataframe output, 1/6 appears as 0.166667. So it is easy to see the probabilities are approaching that theoretical probability as the number of trials increases. ",
      "metadata": {}
    },
    {
      "cell_type": "code",
      "source": "",
      "metadata": {},
      "execution_count": null,
      "outputs": []
    }
  ]
}