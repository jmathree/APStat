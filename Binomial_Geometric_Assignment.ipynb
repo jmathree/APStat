{
  "metadata": {
    "language_info": {
      "codemirror_mode": {
        "name": "python",
        "version": 3
      },
      "file_extension": ".py",
      "mimetype": "text/x-python",
      "name": "python",
      "nbconvert_exporter": "python",
      "pygments_lexer": "ipython3",
      "version": "3.8"
    },
    "kernelspec": {
      "name": "python",
      "display_name": "Python (Pyodide)",
      "language": "python"
    }
  },
  "nbformat_minor": 4,
  "nbformat": 4,
  "cells": [
    {
      "cell_type": "markdown",
      "source": "<h1>Simulations for Problems in Binomial and Geometric Random Variables Assignment</h1>",
      "metadata": {}
    },
    {
      "cell_type": "markdown",
      "source": "These simulations are for problems on the assignments for binomial and geometric random variables. There are two questions on those assignments that require you to analyze the simulations and compare them to your answers on other questions.",
      "metadata": {}
    },
    {
      "cell_type": "code",
      "source": "#Simulations for Binomial and Geometric Random Variables Assignment\nimport pandas as pd\nimport matplotlib as mpl\nimport matplotlib.pyplot as plt\nimport numpy as np\nimport random as rnd",
      "metadata": {
        "trusted": true
      },
      "execution_count": null,
      "outputs": []
    },
    {
      "cell_type": "markdown",
      "source": "<h1>Topics 4.10 and 4.11 Assignment</h1>",
      "metadata": {}
    },
    {
      "cell_type": "code",
      "source": "#topics 4.10 and 4.11, question #1\n#Random variable X counts the number of completed passes out of 30.\nn = 30    #number of passes expected to be thrown in a game\np = 0.45  #probability of quarterback completing a pass\nt = 10000 #trials in simulation\nX = [0]*t\ncount = 0\nfor i in range(t):\n    for k in range(n):\n        x = rnd.randint(0,1000)\n        if x < p*1000:\n            count = count + 1\n    X[i] = count\n    count = 0\nX = pd.DataFrame({'x':X})\n#print('The simulated probability of a streak of {} or more heads or {} or more tails is {}.'.format(s,s,count/t))\nX.plot.hist(grid=True, bins=31, range=(0,31), rwidth=1.0,color='b',edgecolor='k')\nplt.title('Topic 4.10 and 4.11 Binomial and Geometric Probability Assignment')\nplt.xlabel('# of Completed Passes Out of 30')\nplt.ylabel('Frequency')    ",
      "metadata": {
        "trusted": true
      },
      "execution_count": null,
      "outputs": []
    },
    {
      "cell_type": "code",
      "source": "# Problem 1a\nX_1a = X.value_counts().rename_axis('Completions').reset_index(name='Frequency')\n#Calculate simulated probability that X = 18\nP18 = X_1a[(X_1a['Completions']==18)]\nP18.reset_index(inplace=True)\nP18 = P18.drop(columns=['index'])\nP = (P18.loc[0][1])/t\nprint('The simulated probability of the quarterback completing exactly 18 out of 30 passes is ',P,'.')\nP18.head()",
      "metadata": {
        "tags": [],
        "trusted": true
      },
      "execution_count": null,
      "outputs": []
    },
    {
      "cell_type": "code",
      "source": "# Problem 1b\nX_1b = X.value_counts().rename_axis('Completions').reset_index(name='Frequency')\n#Calculate simulated probability that X > 20\nP20 = X_1a[(X_1a['Completions']>20)]\nP20.reset_index(inplace=True)\nP20 = P20.drop(columns=['index'])\nP = P20['Frequency'].sum()/t\nprint('The simulated probability of the quarterback completing more than 20 out of 30 passes is ',P,'.')\nP20.head()",
      "metadata": {
        "trusted": true
      },
      "execution_count": null,
      "outputs": []
    },
    {
      "cell_type": "code",
      "source": "# Problem 1c and 1d\nX.describe()",
      "metadata": {
        "trusted": true
      },
      "execution_count": null,
      "outputs": []
    },
    {
      "cell_type": "code",
      "source": "#topics 4.10 and 4.11, question #2\n#Random variable X counts the number of times the batter reaches base in 10 at bats.\nn = 10    #number of times expected to be at bat in post-season run\np = 0.324  #probability of reaching base on each at bat\nt = 10000 #trials in simulation\nX = [0]*t\ncount = 0\nfor i in range(t):\n    for k in range(n):\n        x = rnd.randint(0,1000)\n        if x < p*1000:\n            count = count + 1\n    X[i] = count\n    count = 0\nX = pd.DataFrame({'x':X})\n#print('The simulated probability of a streak of {} or more heads or {} or more tails is {}.'.format(s,s,count/t))\nX.plot.hist(grid=True, bins=11, range=(0,11), rwidth=1.0,color='b',edgecolor='k')\nplt.title('Topic 4.10 and 4.11 Binomial and Geometric Probability Assignment')\nplt.xlabel('# of Times on Base Out of 10 at Bats')\nplt.ylabel('Frequency')  ",
      "metadata": {
        "trusted": true
      },
      "execution_count": null,
      "outputs": []
    },
    {
      "cell_type": "code",
      "source": "# Problem 2a\nX_2a = X.value_counts().rename_axis('On_Base').reset_index(name='Frequency')\n#Calculate simulated probability that X = 6\nP6 = X_2a[(X_2a['On_Base']==6)]\nP6.reset_index(inplace=True)\nP6 = P6.drop(columns=['index'])\nP = (P6.loc[0][1])/t\nprint('The simulated probability of the batter making it to base exactly 6 times is ',P,'.')\nP6.head()",
      "metadata": {
        "trusted": true
      },
      "execution_count": null,
      "outputs": []
    },
    {
      "cell_type": "code",
      "source": "# Problem 2b\nX_2b = X.value_counts().rename_axis('On_Base').reset_index(name='Frequency')\n#Calculate simulated probability that <= 4\nP4 = X_2b[(X_2b['On_Base'] < 5)]\nP4.reset_index(inplace=True)\nP4 = P4.drop(columns=['index'])\nP = P4['Frequency'].sum()/t\nprint('The simulated probability of the batter making it to base less than 4 times is ',P,'.')\nP4.head()",
      "metadata": {
        "trusted": true
      },
      "execution_count": null,
      "outputs": []
    },
    {
      "cell_type": "code",
      "source": "# Problem 2c and 2d\nX.describe()",
      "metadata": {
        "trusted": true
      },
      "execution_count": null,
      "outputs": []
    },
    {
      "cell_type": "code",
      "source": "#topics 4.10 and 4.11, question #3\n#Random variable X counts the number of free throws made by Frederick.\n#Random variable Y counts the number of free throws made by Fredicia.\n#Random variable Z = X + Y\nn = 10    #number of free throw attempts by both Frederick and Fredicia\npx = 0.79  #probability of Frederick making a free throw\npy = 0.83 #probability of Fredicia making a free throw\nt = 10000 #trials in simulation\nX = [0]*t\nY = [0]*t\nZ = [0]*t\ncountx = 0\ncounty = 0\nfor i in range(t):\n    for k in range(n):\n        x = rnd.randint(0,1000)\n        if x < px*1000:\n            countx = countx + 1\n        y = rnd.randint(0,1000)\n        if y < py*1000:\n            county = county + 1\n    X[i] = countx\n    Y[i] = county\n    Z[i] = countx + county\n    countx = 0\n    county = 0\n\nX = pd.DataFrame({'x':X})\nxbins = X['x'].max()+1\n#print('The simulated probability of a streak of {} or more heads or {} or more tails is {}.'.format(s,s,count/t))\nX.plot.hist(grid=True, bins=xbins, range=(0,xbins), rwidth=1.0,color='b',edgecolor='k')\nplt.title('Topic 4.10 and 4.11 Binomial and Geometric Probability Assignment')\nplt.xlabel('# of Free Throws Made by Frederick')\nplt.ylabel('Frequency') \n\nY = pd.DataFrame({'y':Y})\nybins = Y['y'].max()+1\n#print('The simulated probability of a streak of {} or more heads or {} or more tails is {}.'.format(s,s,count/t))\nY.plot.hist(grid=True, bins=ybins, range=(0,ybins), rwidth=1.0,color='b',edgecolor='k')\nplt.title('Topic 4.10 and 4.11 Binomial and Geometric Probability Assignment')\nplt.xlabel('# of Free Throws Made by Fredicia')\nplt.ylabel('Frequency') \n\nZ = pd.DataFrame({'z':Z})\nzbins = Z['z'].max()+1\n#print('The simulated probability of a streak of {} or more heads or {} or more tails is {}.'.format(s,s,count/t))\nZ.plot.hist(grid=True, bins=zbins, range=(0,zbins), rwidth=1.0,color='b',edgecolor='k')\nplt.title('Topic 4.10 and 4.11 Binomial and Geometric Probability Assignment')\nplt.xlabel('# of Free Throws Made by Frederick and Fredicia')\nplt.ylabel('Frequency') ",
      "metadata": {
        "trusted": true
      },
      "execution_count": null,
      "outputs": []
    },
    {
      "cell_type": "code",
      "source": "# Problem 3b\nZ_3a = Z.value_counts().rename_axis('Made Free Throws').reset_index(name='Frequency')\n#Calculate simulated probability that Z = 20\nZ20 = Z_3a[(Z_3a['Made Free Throws']==20)]\nZ20.reset_index(inplace=True)\nZ20 = Z20.drop(columns=['index'])\nP = (Z20.loc[0][1])/t\nprint('The simulated probability of the business will donate exactly $1000 is ',P,'.')\nZ20.head()",
      "metadata": {
        "trusted": true
      },
      "execution_count": null,
      "outputs": []
    },
    {
      "cell_type": "code",
      "source": "# Problem 3c\nZ_3b = Z.value_counts().rename_axis('Made Free Throws').reset_index(name='Frequency')\n#Calculate simulated probability that Z = 20\nZ1 = Z_3b[(Z_3b['Made Free Throws']>1)]\nZ1.reset_index(inplace=True)\nZ1 = Z1.drop(columns=['index'])\nP = (Z1['Frequency'].sum())/t\nprint('The simulated probability of the business will donate more than $50 is ',P,'.')\nZ_3b",
      "metadata": {
        "trusted": true
      },
      "execution_count": null,
      "outputs": []
    },
    {
      "cell_type": "code",
      "source": "#problem 3d\nZ['m'] = Z['z']*50\nZ.describe()",
      "metadata": {
        "trusted": true
      },
      "execution_count": null,
      "outputs": []
    },
    {
      "cell_type": "markdown",
      "source": "<h1>Topic 4.12 Assignment</h1>",
      "metadata": {}
    },
    {
      "cell_type": "code",
      "source": "#topics 4.12, question #1\n#Random variable X counts the number of attempted passes until the first completion.\np = 0.45  #probability of quarterback completing a pass\nt = 10000 #trials in simulation\nX = [0]*t\ncount = 0\nfor i in range(t):\n    stop = False\n    while stop == False:\n        x = rnd.randint(0,1000)\n        count = count + 1\n        if x < p*1000:\n            stop = True\n    X[i] = count\n    count = 0\nX = pd.DataFrame({'x':X})\nX.plot.hist(grid=True, bins=(X['x'].max()), range=(1,X['x'].max()+1), rwidth=1.0,color='b',edgecolor='k')\nplt.title('Topic 4.10 and 4.11 Binomial and Geometric Probability Assignment')\nplt.xlabel('# of Completed Passes Out of 30')\nplt.ylabel('Frequency')    ",
      "metadata": {
        "trusted": true
      },
      "execution_count": null,
      "outputs": []
    },
    {
      "cell_type": "code",
      "source": "# Problem 1a\nX_1a = X.value_counts().rename_axis('Completions').reset_index(name='Frequency')\n#Calculate simulated probability that X = 4\nP4 = X_1a[(X_1a['Completions']==4)]\nP4.reset_index(inplace=True)\nP4 = P4.drop(columns=['index'])\nP = (P4.loc[0][1])/t\nprint('The simulated probability of the quarterback completing his 1st pass on his 4th attempt is ',P,'.')\nP4.head()",
      "metadata": {
        "trusted": true
      },
      "execution_count": null,
      "outputs": []
    },
    {
      "cell_type": "code",
      "source": "X.describe()",
      "metadata": {
        "trusted": true
      },
      "execution_count": null,
      "outputs": []
    },
    {
      "cell_type": "code",
      "source": "#topics 4.12, question #2\n#Random variable X counts the number of at bats until the batter reaches base.\np = 0.324  #probability of reaching base on each at bat\nt = 10000 #trials in simulation\nX = [0]*t\ncount = 0\nfor i in range(t):\n    stop = False\n    while stop == False:\n        x = rnd.randint(0,1000)\n        count = count + 1\n        if x < p*1000:\n            stop = True\n    X[i] = count\n    count = 0\nX = pd.DataFrame({'x':X})\n#print('The simulated probability of a streak of {} or more heads or {} or more tails is {}.'.format(s,s,count/t))\nX.plot.hist(grid=True, bins=(X['x'].max()), range=(1,X['x'].max()+1), rwidth=1.0,color='b',edgecolor='k')\nplt.title('Topic 4.12 Binomial and Geometric Probability Assignment')\nplt.xlabel('# of Times on Base Out of 10 at Bats')\nplt.ylabel('Frequency')  ",
      "metadata": {
        "trusted": true
      },
      "execution_count": null,
      "outputs": []
    },
    {
      "cell_type": "code",
      "source": "# Problem 2a\nX_2a = X.value_counts().rename_axis('On_Base').reset_index(name='Frequency')\n#Calculate simulated probability that X = 2\nP2 = X_2a[(X_2a['On_Base']==2)]\nP2.reset_index(inplace=True)\nP2 = P2.drop(columns=['index'])\nP = (P2.loc[0][1])/t\nprint('The simulated probability of the batter making it base the 1st time on her 2nd at bat is ',P,'.')\nP2.head()",
      "metadata": {
        "tags": [],
        "trusted": true
      },
      "execution_count": null,
      "outputs": []
    },
    {
      "cell_type": "code",
      "source": "# Problem 2b\nX.describe()",
      "metadata": {
        "trusted": true
      },
      "execution_count": null,
      "outputs": []
    },
    {
      "cell_type": "code",
      "source": "",
      "metadata": {},
      "execution_count": null,
      "outputs": []
    }
  ]
}